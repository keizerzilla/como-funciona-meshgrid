{
 "cells": [
  {
   "cell_type": "markdown",
   "id": "invisible-banks",
   "metadata": {},
   "source": [
    "# Intuição\n",
    "\n",
    "Como já sabemos, a nuvem de pontos é um conjunto desestruturado; basta perceber que os elementos que a forma - os pontos - estão distribuídos no espaço sem uma \"ordem\" ou \"padrão\" explícito. Em outras palavras: sem conexão. Já uma malha (ou mesh) é um conjunto de triângulos conectados que formam uma superfície. Um triângulo é formado por vértices (pontos no espaço) e arestas (linhas que conectam dois pontos). Portanto, uma malha é um conjunto estruturado de dados. Dessas duas definições já podemos intuir que uma nuvem de pontos seria \"uma malha sem arestas\" ou \"uma malha só de vértices\"; transformar uma nuvem em uma malha significa encontrar as arestas.\n",
    "\n",
    "Entretanto, existem algumas estratégias de geração dessa malha. A mais simples delas tenta encontrar uma função do $R^2 \\rightarrow R$, ou seja, um $f(x, y) \\rightarrow z$."
   ]
  },
  {
   "cell_type": "markdown",
   "id": "alone-limit",
   "metadata": {},
   "source": [
    "# CONTINUAR..."
   ]
  }
 ],
 "metadata": {
  "kernelspec": {
   "display_name": "Python 3",
   "language": "python",
   "name": "python3"
  },
  "language_info": {
   "codemirror_mode": {
    "name": "ipython",
    "version": 3
   },
   "file_extension": ".py",
   "mimetype": "text/x-python",
   "name": "python",
   "nbconvert_exporter": "python",
   "pygments_lexer": "ipython3",
   "version": "3.8.6"
  }
 },
 "nbformat": 4,
 "nbformat_minor": 5
}
